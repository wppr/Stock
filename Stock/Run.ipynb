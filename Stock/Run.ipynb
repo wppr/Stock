{
 "metadata": {
  "language_info": {
   "codemirror_mode": {
    "name": "ipython",
    "version": 3
   },
   "file_extension": ".py",
   "mimetype": "text/x-python",
   "name": "python",
   "nbconvert_exporter": "python",
   "pygments_lexer": "ipython3",
   "version": "3.6.6-final"
  },
  "orig_nbformat": 2,
  "kernelspec": {
   "name": "python_defaultSpec_1599316248797",
   "display_name": "Python 3.6.6 64-bit"
  }
 },
 "nbformat": 4,
 "nbformat_minor": 2,
 "cells": [
  {
   "cell_type": "code",
   "execution_count": 4,
   "metadata": {
    "tags": []
   },
   "outputs": [
    {
     "output_type": "stream",
     "name": "stdout",
     "text": "今日 20200905\n当前交易日 20200905\n"
    }
   ],
   "source": [
    "from Stock import *    \n",
    "g.track=Track1()\n",
    "g.track.Init()"
   ]
  },
  {
   "cell_type": "code",
   "execution_count": 13,
   "metadata": {
    "tags": []
   },
   "outputs": [
    {
     "output_type": "stream",
     "name": "stdout",
     "text": "从数据库加载基本数据\nLoad Daily Data\n20200905 获取 最近交易日 20200904\nEnd\n"
    }
   ],
   "source": [
    "LoadDBData()\n"
   ]
  },
  {
   "cell_type": "code",
   "execution_count": 6,
   "metadata": {
    "tags": []
   },
   "outputs": [
    {
     "output_type": "stream",
     "name": "stdout",
     "text": "Daily Update\nAlready Update\n"
    }
   ],
   "source": [
    "DailyUpdate(g.df)"
   ]
  },
  {
   "cell_type": "code",
   "execution_count": 8,
   "metadata": {
    "tags": []
   },
   "outputs": [
    {
     "output_type": "stream",
     "name": "stdout",
     "text": "Seperate Begin\nSeperate End\nprocess mean  100\nprocess mean  200\nprocess mean  300\nprocess mean  400\nprocess mean  500\nprocess mean  600\nprocess mean  700\nprocess mean  800\nprocess mean  900\nprocess mean  1000\nprocess mean  1100\nprocess mean  1200\nprocess mean  1300\nprocess mean  1400\nprocess mean  1500\nprocess mean  1600\nprocess mean  1700\nprocess mean  1800\nprocess mean  1900\nprocess mean  2000\nprocess mean  2100\nprocess mean  2200\nprocess mean  2300\nprocess mean  2400\nprocess mean  2500\nprocess mean  2600\nprocess mean  2700\nprocess mean  2800\nprocess mean  2900\nprocess mean  3000\nprocess mean  3100\nprocess mean  3200\nprocess mean  3300\nprocess mean  3400\nprocess mean  3500\nprocess mean  3600\nprocess mean  3700\nprocess mean  3800\nprocess mean  3900\nprocess mean done\nSaveMA End\n保存均线完毕\n"
    }
   ],
   "source": [
    "CalcMeans(g.df)"
   ]
  },
  {
   "cell_type": "code",
   "execution_count": null,
   "metadata": {},
   "outputs": [],
   "source": [
    "#UpdateFuQuan(g.df,'20200720','20200826')"
   ]
  },
  {
   "cell_type": "code",
   "execution_count": 10,
   "metadata": {
    "tags": []
   },
   "outputs": [
    {
     "output_type": "stream",
     "name": "stdout",
     "text": "活跃股数 20200904 723\n"
    }
   ],
   "source": [
    "endDay=g.CurTradeDay\n",
    "df=g.df\n",
    "ActiveStocks=df[df.trade_date==endDay][df.amount*1000>300000000]['ts_code'].tolist()\n",
    "print(\"活跃股数\",endDay,len(ActiveStocks))"
   ]
  },
  {
   "cell_type": "code",
   "execution_count": 14,
   "metadata": {
    "tags": [
     "outputPrepend"
    ]
   },
   "outputs": [
    {
     "output_type": "stream",
     "name": "stdout",
     "text": "\nProcess end    300147.SZ 426 / 722 线程 11136\nProcess Start  601933.SH\nProcess end    601933.SH 427 / 722 线程 11136\nProcess Start  300159.SZ\nProcess end    300159.SZ 428 / 722 线程 11136\nProcess Start  300223.SZ\nProcess end    300223.SZ 429 / 722 线程 11136\nProcess Start  300160.SZ\nProcess end    300160.SZ 430 / 722 线程 11136\nProcess Start  300163.SZ\nProcess end    300163.SZ 431 / 722 线程 11136\nProcess Start  002557.SZ\nProcess end    002557.SZ 432 / 722 线程 11136\nProcess Start  002737.SZ\nProcess end 002737.SZ 433 / 722 线程 11136\nProcess Start  300465.SZ\nProcess end    300465.SZ 434 / 722 线程 11136\nProcess Start  603919.SH\nProcess end    603919.SH 435 / 722 线程 11136\nProcess Start  300526.SZ\nProcess end    300526.SZ 436 / 722 线程 11136\nProcess Start  300496.SZ\nProcess end    300496.SZ 437 / 722 线程 11136\nProcess Start  000050.SZ\nProcess end    000050.SZ 438 / 722 线程 11136\nProcess Start  000063.SZ\nProcess end    000063.SZ 439 / 722 线程 11136\nProcess Start  000066.SZ\nProcess end    000066.SZ 440 / 722 线程 11136\nProcess Start  000089.SZ\nProcess end    000089.SZ 441 / 722 线程 11136\nProcess Start  000157.SZ\nProcess end    000157.SZ 442 / 722 线程 11136\nProcess Start  600535.SH\nProcess end    600535.SH 443 / 722 线程 11136\nProcess Start  600597.SH\nProcess end    600597.SH 444 / 722 线程 11136\nProcess Start  600715.SH\nProcess end    600715.SH 445 / 722 线程 11136\nProcess Start  600737.SH\nProcess end    600737.SH 446 / 722 线程 11136\nProcess Start  002362.SZ\nProcess end    002362.SZ 447 / 722 线程 11136\nProcess Start  300002.SZ\nProcess end    300002.SZ 448 / 722 线程 11136\nProcess Start  601633.SH\nProcess end    601633.SH 449 / 722 线程 11136\nProcess Start  002285.SZ\nProcess end    002285.SZ 450 / 722 线程 11136\nProcess Start  002291.SZ\nProcess end    002291.SZ 451 / 722 线程 11136\nProcess Start  002294.SZ\nProcess end    002294.SZ 452 / 722 线程 11136\nProcess Start  600999.SH\nProcess end    600999.SH 453 / 722 线程 11136\nProcess Start  002506.SZ\nProcess end    002506.SZ 454 / 722 线程 11136\nProcess Start  601888.SH\nProcess end    601888.SH 455 / 722 线程 11136\nProcess Start  601989.SH\nProcess end    601989.SH 456 / 722 线程 11136\nProcess Start  002315.SZ\nProcess end    002315.SZ 457 / 722 线程 11136\nProcess Start  300170.SZ\nProcess end    300170.SZ 458 / 722 线程 11136\nProcess Start  002537.SZ\nProcess end    002537.SZ 459/ 722 线程 11136\nProcess Start  300166.SZ\nProcess end    300166.SZ 460 / 722 线程 11136\nProcess Start  300172.SZ\nProcess end    300172.SZ 461 / 722 线程 11136\nProcess Start  300251.SZ\nProcess end    300251.SZ 462 / 722 线程 11136\nProcess Start  300256.SZ\nProcess end    300256.SZ 463 / 722 线程 11136\nProcess Start  300255.SZ\nProcess end    300255.SZ 464 / 722 线程 11136\nProcess Start  300260.SZ\nProcess end    300260.SZ 465 / 722 线程 11136\nProcess Start  300265.SZ\nProcess end    300265.SZ 466 / 722 线程 11136\nProcess Start  300267.SZ\nProcess end    300267.SZ 467 / 722 线程 11136\nProcess Start  300303.SZ\nProcess end    300303.SZ 468 / 722 线程 11136\nProcess Start  002610.SZ\nProcess end    002610.SZ 469 / 722 线程 11136\nProcess Start  300261.SZ\nProcess end    300261.SZ 470 / 722 线程 11136\nProcess Start  300269.SZ\nProcess end    300269.SZ 471 / 722 线程 11136\nProcess Start  300263.SZ\nProcess end    300263.SZ 472 / 722 线程 11136\nProcess Start  300294.SZ\nProcess end    300294.SZ 473 / 722 线程 11136\nProcess Start  603986.SH\nProcess end    603986.SH 474 /722 线程 11136\nProcess Start  603160.SH\nProcess end    603160.SH 475 / 722 线程 11136\nProcess Start  300444.SZ\nProcess end    300444.SZ 476 / 722 线程 11136\nProcess Start  002821.SZ\nProcess end    002821.SZ 477 / 722 线程 11136\nProcess Start  300433.SZ\nProcess end    300433.SZ 478 / 722 线程 11136\nProcess Start  300664.SZ\nProcess end    300664.SZ 479 / 722 线程 11136\nProcess Start  603718.SH\nProcess end    603718.SH 480 / 722 线程 11136\nProcess Start  603799.SH\nProcess end    603799.SH 481 / 722 线程 11136\n新股剔除  601456.SH\nProcess Start  002916.SZ\nProcess end    002916.SZ 483 / 722 线程 11136\nProcess Start  002928.SZ\nProcess end    002928.SZ 484 / 722 线程 11136\nProcess Start  300722.SZ\nProcess end    300722.SZ 485 / 722 线程 11136\nProcess Start  300773.SZ\nProcess end    300773.SZ 486 / 722 线程 11136\nProcess Start  601990.SH\nProcess end    601990.SH 487 / 722 线程 11136\nProcess Start  000413.SZ\nProcess end    000413.SZ 488 / 722 线程 11136\nProcess Start000423.SZ\nProcess end    000423.SZ 489 / 722 线程 11136\nProcess Start  000425.SZ\nProcess end    000425.SZ 490 / 722 线程 11136\nProcess Start  000501.SZ\nProcess end 000501.SZ 491 / 722 线程 11136\nProcess Start  000505.SZ\nProcess end    000505.SZ 492 / 722 线程 11136\nProcess Start  000513.SZ\nProcess end    000513.SZ 493 / 722 线程 11136\nProcess Start  000519.SZ\nProcess end    000519.SZ 494 / 722 线程 11136\nProcess Start  600291.SH\nProcess end    600291.SH 495 / 722 线程 11136\nProcess Start  600298.SH\nProcess end    600298.SH 496 / 722 线程 11136\nProcess Start  600300.SH\nProcess end    600300.SH 497 / 722 线程 11136\nProcess Start  600305.SH\nProcess end    600305.SH 498 / 722 线程 11136\nProcess Start  600739.SH\nProcess end    600739.SH 499 / 722 线程 11136\nProcess Start 600745.SH\nProcess end    600745.SH 500 / 722 线程 11136\nProcess Start  600751.SH\nProcess end    600751.SH 501 / 722 线程 11136\nProcess Start  600754.SH\nProcess end    600754.SH 502 / 722 线程 11136\nProcess Start  600760.SH\nProcess end    600760.SH 503 / 722 线程 11136\nProcess Start  600763.SH\nProcess end    600763.SH 504 / 722 线程 11136\nProcess Start  600764.SH\nProcess end 600764.SH 505 / 722 线程 11136\nProcess Start  600372.SH\nProcess end    600372.SH 506 / 722 线程 11136\nProcess Start  600383.SH\nProcess end    600383.SH 507 / 722 线程 11136\nProcess Start  002311.SZ\nProcess end    002311.SZ 508 / 722 线程 11136\nProcess Start  002312.SZ\nProcess end    002312.SZ 509 / 722 线程 11136\nProcess Start  300001.SZ\nProcess end    300001.SZ 510 / 722 线程 11136\nProcess Start  300004.SZ\nProcess end    300004.SZ 511 / 722 线程 11136\nProcess Start  300003.SZ\nProcess end    300003.SZ 512 / 722 线程 11136\nProcess Start  300009.SZ\nProcess end    300009.SZ 513 / 722 线程 11136\nProcess Start  300007.SZ\nProcess end    300007.SZ 514 / 722 线程 11136\nProcess Start  300013.SZ\nProcess end    300013.SZ 515 / 722 线程 11136\nProcess Start  300014.SZ\nProcess end    300014.SZ 516 / 722 线程 11136\nProcess Start  300012.SZ\nProcess end    300012.SZ 517 / 722 线程 11136\nProcess Start  300018.SZ\nProcess end    300018.SZ 518 / 722 线程 11136\nProcess Start  601877.SH\nProcess end    601877.SH 519 / 722 线程 11136\nProcess Start  300017.SZ\nProcess end    300017.SZ 520 / 722 线程 11136\nProcess Start  300071.SZ\nProcess end    300071.SZ 521 / 722 线程 11136\nProcess Start  002624.SZ\nProcess end    002624.SZ 522 / 722 线程 11136\nProcess Start  002617.SZ\nProcess end    002617.SZ 523 / 722 线程 11136\nProcess Start  300266.SZ\nProcess end    300266.SZ 524 / 722 线程 11136\nProcess Start  601100.SH\nProcess end    601100.SH 525 / 722 线程 11136\nProcess Start  300283.SZ\nProcess end    300283.SZ 526 / 722 线程 11136\nProcess Start  002625.SZ\nProcess end    002625.SZ 527 / 722 线程 11136\nProcess Start  300297.SZ\nProcess end    300297.SZ 528 / 722 线程 11136\nProcess Start  300292.SZ\nProcess end    300292.SZ 529 / 722 线程 11136\nProcess Start  300310.SZ\nProcess end    300310.SZ 530 / 722 线程 11136\nProcess Start  300296.SZ\nProcess end    300296.SZ 531 / 722 线程 11136\nProcess Start  300309.SZ\nProcess end    300309.SZ 532 / 722 线程 11136\nProcess Start  300301.SZ\nProcess end    300301.SZ 533 / 722 线程 11136\nProcess Start  300304.SZ\nProcess end    300304.SZ 534 / 722 线程 11136\nProcess Start  601231.SH\nProcess end    601231.SH 535 / 722 线程 11136\nProcess Start  601606.SH\nProcess end    601606.SH 536 / 722 线程 11136\nProcess Start  603589.SH\nProcess end    603589.SH 537 / 722 线程 11136\nProcess Start  002759.SZ\nProcess end    002759.SZ 538 / 722 线程 11136\nProcess Start  603317.SH\nProcess end    603317.SH 539 / 722 线程 11136\nProcess Start  300460.SZ\nProcess end    300460.SZ 540 / 722 线程 11136\nProcess Start  300414.SZ\nProcess end    300414.SZ 541 / 722 线程 11136\nProcess Start  300506.SZ\nProcess end    300506.SZ 542 / 722 线程 11136\nProcess Start  300410.SZ\nProcess end    300410.SZ 543 / 722 线程 11136\nProcess Start  300420.SZ\nProcess end    300420.SZ 544 / 722 线程 11136\nProcess Start  601611.SH\nProcess end    601611.SH 545 / 722 线程 11136\nProcess Start  300364.SZ\nProcess end    300364.SZ 546 / 722 线程 11136\nProcess Start  300725.SZ\nProcess end    300725.SZ 547 / 722 线程 11136\nProcess Start  300624.SZ\nProcess end    300624.SZ 548 / 722 线程 11136\nProcess Start  688111.SH\nProcess end    688111.SH 549 / 722 线程 11136\nProcess Start  300760.SZ\nProcess end    300760.SZ 550 / 722 线程 11136\nProcess Start  300739.SZ\nProcess end    300739.SZ 551 / 722 线程 11136\nProcess Start  600309.SH\nProcess end    600309.SH 552 / 722 线程 11136\nProcess Start  600315.SH\nProcess end    600315.SH 553 / 722 线程 11136\nProcess Start  600316.SH\nProcess end    600316.SH 554 / 722 线程 11136\nProcess Start  600326.SH\nProcess end    600326.SH 555 / 722 线程 11136\nProcess Start  600330.SH\nProcess end    600330.SH 556 / 722 线程 11136\nProcess Start  600332.SH\nProcess end    600332.SH 557 / 722 线程 11136\nProcess Start  600346.SH\nProcess end    600346.SH 558 / 722 线程 11136\nProcess Start  600362.SH\nProcess end    600362.SH 559 / 722 线程 11136\nProcess Start  600363.SH\nProcess end    600363.SH 560 / 722 线程 11136\nProcess Start  000738.SZ\nProcess end    000738.SZ 561 / 722 线程 11136\nProcess Start  000750.SZ\nProcess end    000750.SZ 562 / 722 线程 11136\nProcess Start  600418.SH\nProcess end    600418.SH 563 / 722 线程 11136\nProcess Start  600419.SH\nProcess end    600419.SH 564 / 722 线程 11136\nProcess Start  600519.SH\nProcess end    600519.SH 565 / 722 线程 11136\nProcess Start  600536.SH\nProcess end    600536.SH 566 / 722 线程 11136\nProcess Start  300015.SZ\nProcess end    300015.SZ 567 / 722 线程 11136\nProcess Start  300020.SZ\nProcess end    300020.SZ 568 / 722 线程 11136\nProcess Start  300022.SZ\nProcess end    300022.SZ 569 / 722 线程 11136\nProcess Start  300033.SZ\nProcess end    300033.SZ 570 / 722 线程 11136\nProcess Start  300027.SZ\nProcess end    300027.SZ 571 / 722 线程 11136\nProcess Start  300026.SZ\nProcess end    300026.SZ 572 / 722 线程 11136\nProcess Start  300025.SZ\nProcess end    300025.SZ 573 / 722 线程 11136\nProcess Start  002326.SZ\nProcess end    002326.SZ 574 / 722 线程 11136\nProcess Start  002340.SZ\nProcess end    002340.SZ 575 / 722 线程 11136\nProcess Start  300139.SZ\nProcess end    300139.SZ 576 / 722 线程 11136\nProcess Start  601601.SH\nProcess end    601601.SH 577 / 722 线程 11136\nProcess Start  300024.SZ\nProcess end    300024.SZ 578 / 722 线程 11136\nProcess Start  002151.SZ\nProcess end    002151.SZ 579 / 722 线程 11136\nProcess Start  002156.SZ\nProcess end    002156.SZ 580 / 722 线程 11136\nProcess Start  300300.SZ\nProcess end    300300.SZ 581 / 722 线程 11136\nProcess Start  300313.SZ\nProcess end    300313.SZ 582 / 722 线程 11136\nProcess Start  300311.SZ\nProcess end    300311.SZ 583 / 722 线程 11136\nProcess Start  300302.SZ\nProcess end    300302.SZ 584 / 722 线程 11136\nProcess Start  300315.SZ\nProcess end    300315.SZ 585 / 722 线程 11136\nProcess Start  300312.SZ\nProcess end    300312.SZ 586 / 722 线程 11136\nProcess Start  300317.SZ\nProcess end    300317.SZ 587 / 722 线程 11136\nProcess Start  300319.SZ\nProcess end    300319.SZ 588 / 722 线程 11136\nProcess Start  603198.SH\nProcess end    603198.SH 589 / 722 线程 11136\nProcess Start  300456.SZ\nProcess end    300456.SZ 590 / 722 线程 11136\nProcess Start  603517.SH\nProcess end    603517.SH 591 / 722 线程 11136\nProcess Start  300759.SZ\nProcess end    300759.SZ 592 / 722 线程 11136\nProcess Start  601066.SH\nProcess end    601066.SH 593 / 722 线程 11136\nProcess Start  300748.SZ\nProcess end    300748.SZ 594 / 722 线程 11136\nProcess Start  603259.SH\nProcess end    603259.SH 595 / 722 线程 11136\nProcess Start  000768.SZ\nProcess end    000768.SZ 596 / 722 线程 11136\nProcess Start  000776.SZ\nProcess end    000776.SZ 597 / 722 线程 11136\nProcess Start  000799.SZ\nProcess end    000799.SZ 598 / 722 线程 11136\nProcess Start  000800.SZ\nProcess end    000800.SZ 599 / 722 线程 11136\nProcess Start  000802.SZ\nProcess end    000802.SZ 600 / 722 线程 11136\nProcess Start  000807.SZ\nProcess end    000807.SZ 601 / 722 线程 11136\nProcess Start  600585.SH\nProcess end    600585.SH 602 / 722 线程 11136\nProcess Start  600588.SH\nProcess end    600588.SH 603 / 722 线程 11136\nProcess Start  600598.SH\nProcess end    600598.SH 604 / 722 线程 11136\nProcess Start  600600.SH\nProcess end    600600.SH 605 / 722 线程 11136\nProcess Start  600606.SH\nProcess end    600606.SH 606 / 722 线程 11136\nProcess Start  600621.SH\nProcess end    600621.SH 607 / 722 线程 11136\nProcess Start  002212.SZ\nProcess end    002212.SZ 608 / 722 线程 11136\nProcess Start  601899.SH\nProcess end    601899.SH 609 / 722 线程 11136\nProcess Start  601099.SH\nProcess end    601099.SH 610 / 722 线程 11136\nProcess Start  002223.SZ\nProcess end    002223.SZ 611 / 722 线程 11136\nProcess Start  002230.SZ\nProcess end    002230.SZ 612 / 722 线程 11136\nProcess Start  002235.SZ\nProcess end    002235.SZ 613 / 722 线程 11136\nProcess Start  002236.SZ\nProcess end    002236.SZ 614 / 722 线程 11136\nProcess Start  002241.SZ\nProcess end    002241.SZ 615 / 722 线程 11136\nProcess Start  300316.SZ\nProcess end    300316.SZ 616 / 722 线程 11136\nProcess Start  300322.SZ\nProcess end    300322.SZ 617 / 722 线程 11136\nProcess Start  300339.SZ\nProcess end    300339.SZ 618 / 722 线程 11136\nProcess Start  300333.SZ\nProcess end    300333.SZ 619 / 722 线程 11136\nProcess Start  300336.SZ\nProcess end    300336.SZ 620 / 722 线程 11136\nProcess Start  300348.SZ\nProcess end    300348.SZ 621 / 722 线程 11136\nProcess Start  300397.SZ\nProcess end    300397.SZ 622 / 722 线程 11136\nProcess Start  300337.SZ\nProcess end    300337.SZ 623 / 722 线程 11136\nProcess Start  300347.SZ\nProcess end    300347.SZ 624 / 722 线程 11136\nProcess Start  300323.SZ\nProcess end    300323.SZ 625 / 722 线程 11136\nProcess Start  300341.SZ\nProcess end    300341.SZ 626 / 722 线程 11136\nProcess Start  002683.SZ\nProcess end    002683.SZ 627 / 722 线程 11136\nProcess Start  300346.SZ\nProcess end    300346.SZ 628 / 722 线程 11136\nProcess Start  300343.SZ\nProcess end    300343.SZ 629 / 722 线程 11136\nProcess Start  603993.SH\nProcess end    603993.SH 630 / 722 线程 11136\nProcess Start  300598.SZ\nProcess end    300598.SZ 631 / 722 线程 11136\n新股剔除  300867.SZ\nProcess Start  601319.SH\nProcess end    601319.SH 633 / 722 线程 11136\nProcess Start  300795.SZ\nProcess end    300795.SZ 634 / 722 线程 11136\nProcess Start  002938.SZ\nProcess end    002938.SZ 635 / 722 线程 11136\nProcess Start  300750.SZ\nProcess end    300750.SZ 636 / 722 线程 11136\nProcess Start  000818.SZ\nProcess end    000818.SZ 637 / 722 线程 11136\nProcess Start  000858.SZ\nProcess end    000858.SZ 638 / 722 线程 11136\nProcess Start  000860.SZ\nProcess end    000860.SZ 639 / 722 线程 11136\nProcess Start  000869.SZ\nProcess end    000869.SZ 640 / 722 线程 11136\nProcess Start  000876.SZ\nProcess end    000876.SZ 641 / 722 线程 11136\nProcess Start  000877.SZ\nProcess end    000877.SZ 642 / 722 线程 11136\nProcess Start  000878.SZ\nProcess end    000878.SZ 643 / 722 线程 11136\nerror 688390.SH False False\n新股剔除  688055.SH\n新股剔除  688185.SH\n新股剔除  688289.SH\nProcess Start  688256.SH\nProcess end    688256.SH 648 / 722 线程 11136\n新股剔除  688378.SH\n新股剔除  688596.SH\n新股剔除  688017.SH\nProcess Start  688981.SH\nProcess end    688981.SH 652 / 722 线程 11136\nProcess Start  002041.SZ\nProcess end    002041.SZ 653 / 722 线程 11136\nProcess Start  002044.SZ\nProcess end    002044.SZ 654 / 722 线程 11136\nProcess Start  600048.SH\nProcess end    600048.SH 655 / 722 线程 11136\nProcess Start  601111.SH\nProcess end    601111.SH 656 / 722 线程 11136\nProcess Start 002080.SZ\nProcess end    002080.SZ 657 / 722 线程 11136\nProcess Start  601398.SH\nProcess end    601398.SH 658 / 722 线程 11136\nProcess Start 002079.SZ\nProcess end    002079.SZ 659 / 722 线程 11136\nProcess Start  300383.SZ\nProcess end    300383.SZ 660 / 722 线程 11136\nProcess Start  603288.SH\nProcess end    603288.SH 661 / 722 线程 11136\nProcess Start  002727.SZ\nProcess end    002727.SZ 662 / 722 线程 11136\nProcess Start  300352.SZ\nProcess end    300352.SZ 663 / 722 线程 11136\nProcess Start  002709.SZ\nProcess end    002709.SZ 664 / 722 线程 11136\nProcess Start  002695.SZ\nProcess end    002695.SZ 665 / 722 线程 11136\nProcess Start  002714.SZ\nProcess end    002714.SZ 666 / 722 线程 11136\nProcess Start  300356.SZ\nProcess end    300356.SZ 667 / 722 线程 11136\nProcess Start  300370.SZ\nProcess end    300370.SZ 668 / 722 线程 11136\nProcess Start  300367.SZ\nProcess end    300367.SZ 669 / 722 线程 11136\nProcess Start  603536.SH\nProcess end    603536.SH 670 / 722 线程 11136\nProcess Start  603127.SH\nProcess end    603127.SH 671 / 722 线程 11136\nProcess Start  300589.SZ\nProcess end    300589.SZ 672 / 722 线程 11136\nProcess Start  603501.SH\nProcess end    603501.SH 673 / 722 线程 11136\nProcess Start  300601.SZ\nProcess end    300601.SZ 674 / 722 线程 11136\nProcess Start  603236.SH\nProcess end    603236.SH 675 / 722 线程 11136\nProcess Start  601138.SH\nProcess end    601138.SH 676 / 722 线程 11136\nProcess Start  000895.SZ\nProcess end    000895.SZ 677 / 722 线程 11136\nProcess Start  000901.SZ\nProcess end    000901.SZ 678 / 722 线程 11136\nProcess Start  000903.SZ\nProcess end    000903.SZ 679 / 722 线程 11136\nProcess Start  000911.SZ\nProcess end    000911.SZ 680 / 722 线程 11136\nProcess Start  000913.SZ\nProcess end    000913.SZ 681 / 722 线程 11136\nProcess Start  000930.SZ\nProcess end    000930.SZ 682 / 722 线程 11136\nProcess Start  000932.SZ\nProcess end    000932.SZ 683 / 722 线程 11136\nProcess Start  000938.SZ\nProcess end    000938.SZ 684 / 722 线程 11136\nProcess Start  000951.SZ\nProcess end    000951.SZ 685 / 722 线程 11136\nProcess Start  002049.SZ\nProcess end    002049.SZ 686 / 722 线程 11136\nProcess Start  002050.SZ\nProcess end    002050.SZ 687 / 722 线程 11136\nProcess Start  601988.SH\nProcess end    601988.SH 688 / 722 线程 11136\nProcess Start  002055.SZ\nProcess end    002055.SZ 689 / 722 线程 11136\nProcess Start  600050.SH\nProcess end    600050.SH 690 / 722 线程 11136\nProcess Start  600522.SH\nProcess end    600522.SH 691 / 722 线程 11136\nProcess Start  300821.SZ\nProcess end 300821.SZ 692 / 722 线程 11136\nProcess Start  600559.SH\nProcess end    600559.SH 693 / 722 线程 11136\nProcess Start  600511.SH\nProcess end    600511.SH 694 / 722 线程 11136\nProcess Start  600563.SH\nProcess end    600563.SH 695 / 722 线程 11136\nProcess Start  600030.SH\nProcess end    600030.SH 696 / 722 线程 11136\nProcess Start  600521.SH\nProcess end    600521.SH 697 / 722 线程 11136\nProcess Start  601696.SH\nProcess end    601696.SH 698 / 722 线程 11136\nProcess Start  600460.SH\nProcess end    600460.SH 699 / 722 线程 11136\nProcess Start  002108.SZ\nProcess end    002108.SZ 700 / 722 线程 11136\nProcess Start  601628.SH\nProcess end    601628.SH 701 / 722 线程 11136\nProcess Start  002120.SZ\nProcess end    002120.SZ 702 / 722 线程 11136\nProcess Start  601166.SH\nProcess end    601166.SH 703 / 722 线程 11136\nProcess Start  002216.SZ\nProcess end    002216.SZ 704 / 722 线程 11136\nProcess Start  002463.SZ\nProcess end    002463.SZ 705 / 722 线程 11136\nProcess Start  002637.SZ\nProcess end    002637.SZ 706 / 722 线程 11136\nProcess Start  601555.SH\nProcess end    601555.SH 707 / 722 线程 11136\nProcess Start  300278.SZ\nProcess end    300278.SZ 708 / 722 线程 11136\nProcess Start  300276.SZ\nProcess end    300276.SZ 709 / 722 线程 11136\nProcess Start  300293.SZ\nProcess end    300293.SZ 710 / 722 线程 11136\nProcess Start  002635.SZ\nProcess end    002635.SZ 711 / 722 线程 11136\nProcess Start  300285.SZ\nProcess end    300285.SZ 712 / 722 线程 11136\nProcess Start  002647.SZ\nProcess end    002647.SZ 713 / 722 线程 11136\nProcess Start  300324.SZ\nProcess end    300324.SZ 714 / 722 线程 11136\nProcess Start  002157.SZ\nProcess end    002157.SZ 715 / 722 线程 11136\nProcess Start  300287.SZ\nProcess end    300287.SZ 716 / 722 线程 11136\nProcess Start  300613.SZ\nProcess end    300613.SZ 717 / 722 线程 11136\nProcess Start  300618.SZ\nProcess end    300618.SZ 718 / 722 线程 11136\nProcess Start  300595.SZ\nProcess end    300595.SZ 719 / 722 线程 11136\nProcess Start  300498.SZ\nProcess end    300498.SZ 720 / 722 线程 11136\nProcess Start  300663.SZ\nProcess end    300663.SZ 721 / 722 线程 11136\nProcess Start  601108.SH\nProcess end    601108.SH 722 / 722 线程11136\nWrite Track End\n"
    }
   ],
   "source": [
    "masByCode=SeperateAllDf(g.ma,g.StockBasic)\n",
    "DfsByCode=SeperateAllDf(g.df,g.StockBasic)\n",
    "RunTrack(g.track,ActiveStocks,DfsByCode,masByCode,db)"
   ]
  },
  {
   "cell_type": "code",
   "execution_count": 15,
   "metadata": {},
   "outputs": [],
   "source": [
    "g.trackData=LoadTable('Track')"
   ]
  },
  {
   "cell_type": "code",
   "execution_count": 16,
   "metadata": {
    "tags": []
   },
   "outputs": [
    {
     "output_type": "stream",
     "name": "stdout",
     "text": "生成报告  20200904\n"
    }
   ],
   "source": [
    "reportDay=g.CurTradeDay\n",
    "#reportDay='20200905'\n",
    "DoReport(g.trackData,g.df,reportDay,g.StockBasic)"
   ]
  },
  {
   "cell_type": "code",
   "execution_count": null,
   "metadata": {},
   "outputs": [],
   "source": []
  }
 ]
}